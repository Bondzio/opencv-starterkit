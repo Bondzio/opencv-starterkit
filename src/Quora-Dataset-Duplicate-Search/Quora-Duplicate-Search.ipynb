{
 "cells": [
  {
   "cell_type": "code",
   "execution_count": 1,
   "metadata": {},
   "outputs": [],
   "source": [
    "import tensorflow as tf\n",
    "import tensorflow_hub as hub\n",
    "import matplotlib.pyplot as plt\n",
    "import numpy as np\n",
    "import pandas as pd\n",
    "import seaborn as sns\n",
    "import click"
   ]
  },
  {
   "cell_type": "markdown",
   "metadata": {},
   "source": [
    "**Pre-processing Dataset**"
   ]
  },
  {
   "cell_type": "code",
   "execution_count": 2,
   "metadata": {},
   "outputs": [],
   "source": [
    "def plot_similarity(labels1, labels2, features1, features2, rotation):\n",
    "    corr = np.inner(features1, features2)\n",
    "    corr2 = corr.copy()\n",
    "    corr2[corr2<0.8]=0\n",
    "    corr2[corr2>=0.8]=1\n",
    "    #print(corr)\n",
    "    sns.set(font_scale=0.6)\n",
    "    #plt.figure(figsize=(100,100))\n",
    "    g = sns.heatmap(corr,\\\n",
    "        #xticklabels=labels1,\\\n",
    "        #yticklabels=labels2,\\\n",
    "        vmin=0,\\\n",
    "        vmax=1,\\\n",
    "        #cmap=\"Greys\")\n",
    "        cmap=\"YlOrRd\")\n",
    "    #g.set_xticklabels(labels1, rotation=rotation)\n",
    "    g.set_title(\"Semantic Textual Similarity\")\n",
    "    plt.tight_layout()\n",
    "    plt.savefig(\"Quora.png\")\n",
    "    plt.show()\n",
    "    #plt.figure(figsize=(100,100))\n",
    "    #g.set_xticklabels(labels1, rotation=rotation)\n",
    "    similar_qid = {}\n",
    "    for i in range(len(labels1)):\n",
    "        for j in range(len(labels2)):\n",
    "            if corr2[i][j] == 1:\n",
    "                similar_qid[labels1[i]]=labels2[j]\n",
    "    return similar_qid"
   ]
  },
  {
   "cell_type": "code",
   "execution_count": 3,
   "metadata": {},
   "outputs": [],
   "source": [
    "def run_and_plot(session_, input_tensor_, messages1_, messages2_, labels1_,labels2_, encoding_tensor):\n",
    "    print(\"Embeddings questions 1\")\n",
    "    message_embeddings1_ = session_.run(encoding_tensor, feed_dict={input_tensor_: messages1_})\n",
    "    print(\"Embeddings questions 2\")\n",
    "    message_embeddings2_ = session_.run(encoding_tensor, feed_dict={input_tensor_: messages2_})\n",
    "    similar_qid = plot_similarity(labels1_,labels2_, \\\n",
    "            message_embeddings1_,\\\n",
    "            message_embeddings2_, 90)\n",
    "    return similar_qid"
   ]
  },
  {
   "cell_type": "markdown",
   "metadata": {},
   "source": [
    "**Read data, remove duplication, then using heatmap to display similarity**"
   ]
  },
  {
   "cell_type": "code",
   "execution_count": null,
   "metadata": {},
   "outputs": [
    {
     "name": "stdout",
     "output_type": "stream",
     "text": [
      "Loading data from q_quora.csv\n",
      "Data loaded successfully\n",
      "Loading model from https://tfhub.dev/google/universal-sentence-encoder/2\n",
      "INFO:tensorflow:Using /tmp/tfhub_modules to cache modules.\n",
      "INFO:tensorflow:Downloading TF-Hub Module 'https://tfhub.dev/google/universal-sentence-encoder/2'.\n",
      "INFO:tensorflow:Downloading https://tfhub.dev/google/universal-sentence-encoder/2: 128.00MB\n",
      "INFO:tensorflow:Downloading https://tfhub.dev/google/universal-sentence-encoder/2: 248.00MB\n",
      "INFO:tensorflow:Downloading https://tfhub.dev/google/universal-sentence-encoder/2: 368.00MB\n",
      "INFO:tensorflow:Downloading https://tfhub.dev/google/universal-sentence-encoder/2: 488.00MB\n",
      "INFO:tensorflow:Downloading https://tfhub.dev/google/universal-sentence-encoder/2: 608.00MB\n",
      "INFO:tensorflow:Downloading https://tfhub.dev/google/universal-sentence-encoder/2: 738.00MB\n",
      "INFO:tensorflow:Downloading https://tfhub.dev/google/universal-sentence-encoder/2: 868.00MB\n",
      "INFO:tensorflow:Downloading https://tfhub.dev/google/universal-sentence-encoder/2: 993.27MB\n",
      "INFO:tensorflow:Downloaded https://tfhub.dev/google/universal-sentence-encoder/2, Total size: 993.27MB\n",
      "INFO:tensorflow:Downloaded TF-Hub Module 'https://tfhub.dev/google/universal-sentence-encoder/2'.\n",
      "Model loaded successfully\n",
      "INFO:tensorflow:Saver not created because there are no variables in the graph to restore\n"
     ]
    }
   ],
   "source": [
    "fname = \"q_quora.csv\"\n",
    "numlines = 1000 # Number of lines to read\n",
    "\n",
    "question1 = {}\n",
    "question2 = {}\n",
    "\n",
    "print(\"Loading data from {}\".format(fname))\n",
    "\n",
    "with open(fname,'r') as f:\n",
    "    if numlines == -1:\n",
    "        totalLines = f.readlines()[1:]\n",
    "    else:\n",
    "        totalLines = f.readlines()[1:numlines]\n",
    "    for line in totalLines:\n",
    "        try:\n",
    "            qid1, qid2, q1, q2 = line.strip().split(',')[1:5]\n",
    "            question1[qid1] = q1\n",
    "            question2[qid2] = q2\n",
    "        except:\n",
    "            continue\n",
    "\n",
    "print(\"Data loaded successfully\")\n",
    "\n",
    "module_url = \"https://tfhub.dev/google/universal-sentence-encoder/2\"\n",
    "# module_url = \"https://216.239.32.27/google/universal-sentence-encoder/2\"\n",
    "print(\"Loading model from {}\".format(module_url))\n",
    "embed = hub.Module(module_url)\n",
    "print(\"Model loaded successfully\")\n",
    "\n",
    "similarity_input_placeholder = tf.placeholder(tf.string, shape=(None))\n",
    "similarity_message_encodings = embed(similarity_input_placeholder)\n",
    "with tf.Session() as session:\n",
    "    session.run(tf.global_variables_initializer())\n",
    "    session.run(tf.tables_initializer())\n",
    "    similar_qid = run_and_plot(session, similarity_input_placeholder,\\\n",
    "            list(question1.values()),\\\n",
    "            list(question2.values()),\\\n",
    "            list(question1.keys()),\\\n",
    "            list(question2.keys()),\\\n",
    "            similarity_message_encodings)\n",
    "\n",
    "with open(\"similarity-results.txt\",'w') as f:\n",
    "    for i in list(similar_qid.keys()):\n",
    "        f.write(\"{},{}\\n=======================\\n\".format(question1[i], question2[similar_qid[i]]))"
   ]
  },
  {
   "cell_type": "code",
   "execution_count": null,
   "metadata": {},
   "outputs": [],
   "source": []
  }
 ],
 "metadata": {
  "kernelspec": {
   "display_name": "Python 3",
   "language": "python",
   "name": "python3"
  },
  "language_info": {
   "codemirror_mode": {
    "name": "ipython",
    "version": 3
   },
   "file_extension": ".py",
   "mimetype": "text/x-python",
   "name": "python",
   "nbconvert_exporter": "python",
   "pygments_lexer": "ipython3",
   "version": "3.5.2"
  }
 },
 "nbformat": 4,
 "nbformat_minor": 2
}
