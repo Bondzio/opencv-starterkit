{
 "cells": [
  {
   "cell_type": "code",
   "execution_count": 2,
   "metadata": {},
   "outputs": [],
   "source": [
    "import tensorflow as tf\n",
    "import tensorflow_hub as hub\n",
    "import matplotlib.pyplot as plt\n",
    "import numpy as np\n",
    "import os\n",
    "import pandas as pd\n",
    "import re\n",
    "import seaborn as sns\n"
   ]
  },
  {
   "cell_type": "markdown",
   "metadata": {},
   "source": [
    "**Load the model**"
   ]
  },
  {
   "cell_type": "code",
   "execution_count": 2,
   "metadata": {},
   "outputs": [
    {
     "name": "stdout",
     "output_type": "stream",
     "text": [
      "Loading model from https://tfhub.dev/google/universal-sentence-encoder/2\n",
      "INFO:tensorflow:Using /tmp/tfhub_modules to cache modules.\n"
     ]
    }
   ],
   "source": [
    "module_url = \"https://tfhub.dev/google/universal-sentence-encoder/2\"\n",
    "\n",
    "print(\"Loading model from {}\".format(module_url))\n",
    "embed = hub.Module(module_url)"
   ]
  },
  {
   "cell_type": "markdown",
   "metadata": {},
   "source": [
    "**Embed Messages using Encoder**"
   ]
  },
  {
   "cell_type": "code",
   "execution_count": 3,
   "metadata": {},
   "outputs": [],
   "source": [
    "word = \"Elephant\"\n",
    "sentence = \"I am a sentence for which I would like to get its embedding.\"\n",
    "paragraph = (\n",
    "            \"Universal Sentence Encoder embeddings also support short paragraphs. \"\n",
    "                \"There is no hard limit on how long the paragraph is. Roughly, the longer \"\n",
    "                    \"the more 'diluted' the embedding will be.\")\n",
    "messages = [word, sentence, paragraph]"
   ]
  },
  {
   "cell_type": "markdown",
   "metadata": {},
   "source": [
    "**Tensorflow part**"
   ]
  },
  {
   "cell_type": "code",
   "execution_count": 4,
   "metadata": {},
   "outputs": [
    {
     "name": "stdout",
     "output_type": "stream",
     "text": [
      "INFO:tensorflow:Saver not created because there are no variables in the graph to restore\n",
      "Message: Elephant\n",
      "Embedding size: 512\n",
      "Embedding: [-0.016987282782793045, -0.008949815295636654, -0.0070627182722091675, ...]\n",
      "\n",
      "Message: I am a sentence for which I would like to get its embedding.\n",
      "Embedding size: 512\n",
      "Embedding: [0.03531332314014435, -0.025384284555912018, -0.007880025543272495, ...]\n",
      "\n",
      "Message: Universal Sentence Encoder embeddings also support short paragraphs. There is no hard limit on how long the paragraph is. Roughly, the longer the more 'diluted' the embedding will be.\n",
      "Embedding size: 512\n",
      "Embedding: [0.01879097707569599, 0.045365191996097565, -0.02001088112592697, ...]\n",
      "\n"
     ]
    }
   ],
   "source": [
    "with tf.Session() as session:\n",
    "  session.run([tf.global_variables_initializer(), tf.tables_initializer()])\n",
    "  message_embeddings = session.run(embed(messages))\n",
    " \n",
    "  for i, message_embedding in enumerate(np.array(message_embeddings).tolist()):\n",
    "    print(\"Message: {}\".format(messages[i]))\n",
    "    print(\"Embedding size: {}\".format(len(message_embedding)))\n",
    "    message_embedding_snippet = \", \".join(\n",
    "        (str(x) for x in message_embedding[:3]))\n",
    "    print(\"Embedding: [{}, ...]\\n\".format(message_embedding_snippet))"
   ]
  },
  {
   "cell_type": "markdown",
   "metadata": {},
   "source": [
    "**Process the script**"
   ]
  },
  {
   "cell_type": "code",
   "execution_count": 3,
   "metadata": {},
   "outputs": [],
   "source": [
    "import re\n",
    "script_processed = open(\"script-processed\",'w')\n",
    "with open(\"script-raw\",'r') as script_raw:\n",
    "    for line in script_raw.readlines():\n",
    "        x = re.sub(\"[\\(\\[].*?[\\)\\]]\", \"\", line)\n",
    "        x = x.strip()\n",
    "        script_processed.write(\"{}\\n\".format(x))\n",
    "script_processed.close()\n"
   ]
  },
  {
   "cell_type": "markdown",
   "metadata": {},
   "source": [
    "**Get dialogues from script**"
   ]
  },
  {
   "cell_type": "code",
   "execution_count": 4,
   "metadata": {},
   "outputs": [
    {
     "name": "stdout",
     "output_type": "stream",
     "text": [
      "Your Bus Driver, Stan Lee: What's the matter with you kids? You've never seen a spaceship before?\n",
      " Your Bus Driver, Stan Lee\n",
      "\n",
      "Child of Thanos:\n",
      " Child of Thanos\n",
      "\n",
      "Tony Stark and Drax: Quill!\n",
      " Tony Stark and Drax\n",
      "\n"
     ]
    }
   ],
   "source": [
    "chars = []\n",
    "file_handles = {}\n",
    "script = open(\"script-processed\",'r')\n",
    "for line in script.readlines():\n",
    "    line.strip()\n",
    "    if line==\"\":\n",
    "        continue\n",
    "    else:\n",
    "        try:\n",
    "            if \":\" not in line:\n",
    "                continue\n",
    "            character = line.split(\":\")[0]\n",
    "            newline = \" \".join(line.split(\":\")[1:])\n",
    "            if len(character.split())>2:\n",
    "                print(line,character)\n",
    "                input()\n",
    "            #print(line,character)\n",
    "            #input()\n",
    "            if character==\"\":\n",
    "                continue\n",
    "            elif character in chars:\n",
    "                file_handles[character].write(\"{}\\n\".format(newline.strip()))\n",
    "            else:\n",
    "                chars.append(character)\n",
    "                file_handles[character] = open(character+\".txt\",'w')\n",
    "                file_handles[character].write(\"{}\\n\".format(newline.strip()))\n",
    "        except:\n",
    "            print(\"Unknown error. Skipping line...\")\n",
    "\n",
    "#print(\"Files written for:\\n{}\".format(\"\\n\".join(chars)))\n"
   ]
  },
  {
   "cell_type": "markdown",
   "metadata": {},
   "source": [
    "**Plotting Similarity Matrix Functions**"
   ]
  },
  {
   "cell_type": "code",
   "execution_count": 5,
   "metadata": {},
   "outputs": [],
   "source": [
    "def plot_similarity(labels, features, rotation):\n",
    "    corr = np.inner(features, features)\n",
    "    sns.set(font_scale=1.2)\n",
    "    g = sns.heatmap(corr,\\\n",
    "        #xticklabels=labels,\\\n",
    "        #yticklabels=labels,\\\n",
    "        vmin=0,\\\n",
    "        vmax=1,\\\n",
    "        cmap=\"YlOrRd\")\n",
    "    #g.set_xticklabels(labels, rotation=rotation)\n",
    "    g.set_title(\"Semantic Textual Similarity\")\n",
    "    #figure = g.get_figure()\n",
    "    plt.tight_layout()\n",
    "    plt.savefig(\"Avenger-semantic-similarity.png\")\n",
    "    plt.show()\n",
    "\n",
    "def run_and_plot(session_, input_tensor_, messages_, labels_, encoding_tensor):\n",
    "    message_embeddings_ = session_.run(encoding_tensor, feed_dict={input_tensor_: messages_})\n",
    "    plot_similarity(labels_, message_embeddings_, 90)"
   ]
  },
  {
   "cell_type": "markdown",
   "metadata": {},
   "source": [
    "**Perform Semantic Similarity Analysis**"
   ]
  },
  {
   "cell_type": "code",
   "execution_count": 6,
   "metadata": {},
   "outputs": [
    {
     "name": "stdout",
     "output_type": "stream",
     "text": [
      "Loading model from https://tfhub.dev/google/universal-sentence-encoder/2\n",
      "INFO:tensorflow:Using /tmp/tfhub_modules to cache modules.\n"
     ]
    }
   ],
   "source": [
    "module_url = \"https://tfhub.dev/google/universal-sentence-encoder/2\"\n",
    "\n",
    "print(\"Loading model from {}\".format(module_url))\n",
    "embed = hub.Module(module_url)\n",
    "file_path = \"./Avengers-Similarity-Analysis\"\n",
    "text_files = [os.path.join(file_path, f) for f in os.listdir(file_path) if f.endswith(\".txt\")]"
   ]
  },
  {
   "cell_type": "markdown",
   "metadata": {},
   "source": [
    "**Read these files**"
   ]
  },
  {
   "cell_type": "code",
   "execution_count": 7,
   "metadata": {},
   "outputs": [
    {
     "name": "stdout",
     "output_type": "stream",
     "text": [
      "Reading data from files...\n",
      "Reading file for ./Avengers-Similarity-Analysis/Wong\n",
      "Reading file for ./Avengers-Similarity-Analysis/Collector\n",
      "Reading file for ./Avengers-Similarity-Analysis/Secretary Ross\n",
      "Reading file for ./Avengers-Similarity-Analysis/Thanos\n",
      "Reading file for ./Avengers-Similarity-Analysis/Eitri\n",
      "Reading file for ./Avengers-Similarity-Analysis/Bucky Barnes\n",
      "Reading file for ./Avengers-Similarity-Analysis/Ebony Maw\n",
      "Reading file for ./Avengers-Similarity-Analysis/James Rhodes\n",
      "Reading file for ./Avengers-Similarity-Analysis/Proxima Midnight\n",
      "Reading file for ./Avengers-Similarity-Analysis/Pepper Potts\n",
      "Reading file for ./Avengers-Similarity-Analysis/Jabari Warriors\n",
      "Reading file for ./Avengers-Similarity-Analysis/Tony Stark\n",
      "Reading file for ./Avengers-Similarity-Analysis/Bruce Banner\n",
      "Reading file for ./Avengers-Similarity-Analysis/Nick Fury\n",
      "Reading file for ./Avengers-Similarity-Analysis/Nebula\n",
      "Reading file for ./Avengers-Similarity-Analysis/Steve Rogers\n",
      "Reading file for ./Avengers-Similarity-Analysis/Jabari\n",
      "Reading file for ./Avengers-Similarity-Analysis/Young Gamora\n",
      "Reading file for ./Avengers-Similarity-Analysis/Vision\n",
      "Reading file for ./Avengers-Similarity-Analysis/Red Skull\n",
      "Reading file for ./Avengers-Similarity-Analysis/Memory Gamora\n",
      "Reading file for ./Avengers-Similarity-Analysis/Peter Parker\n",
      "Reading file for ./Avengers-Similarity-Analysis/Natasha Romanoff\n",
      "Reading file for ./Avengers-Similarity-Analysis/Cull Obsidian\n",
      "Reading file for ./Avengers-Similarity-Analysis/T'Challa\n",
      "Reading file for ./Avengers-Similarity-Analysis/Memory Nebula\n",
      "Reading file for ./Avengers-Similarity-Analysis/Doctor Strange\n",
      "Reading file for ./Avengers-Similarity-Analysis/Gamora's Mother\n",
      "Reading file for ./Avengers-Similarity-Analysis/Gamora\n",
      "Reading file for ./Avengers-Similarity-Analysis/Heimdall\n",
      "Reading file for ./Avengers-Similarity-Analysis/Child of Thanos\n",
      "Reading file for ./Avengers-Similarity-Analysis/M'Baku\n",
      "Reading file for ./Avengers-Similarity-Analysis/Hulk\n",
      "Reading file for ./Avengers-Similarity-Analysis/Stonekeeper\n",
      "Reading file for ./Avengers-Similarity-Analysis/Wanda Maximoff\n",
      "Reading file for ./Avengers-Similarity-Analysis/Dome Control\n",
      "Reading file for ./Avengers-Similarity-Analysis/Groot\n",
      "Reading file for ./Avengers-Similarity-Analysis/Ned Leeds\n",
      "Reading file for ./Avengers-Similarity-Analysis/Shuri\n",
      "Reading file for ./Avengers-Similarity-Analysis/F.R.I.D.A.Y\n",
      "Reading file for ./Avengers-Similarity-Analysis/Maria Hill\n",
      "Reading file for ./Avengers-Similarity-Analysis/Drax\n",
      "Reading file for ./Avengers-Similarity-Analysis/Rocket\n",
      "Reading file for ./Avengers-Similarity-Analysis/Okoye\n",
      "Reading file for ./Avengers-Similarity-Analysis/Your Bus Driver, Stan Lee\n",
      "Reading file for ./Avengers-Similarity-Analysis/Loki\n",
      "Reading file for ./Avengers-Similarity-Analysis/Corvus Glaive\n",
      "Reading file for ./Avengers-Similarity-Analysis/Thor\n",
      "Reading file for ./Avengers-Similarity-Analysis/Sam Wilson\n",
      "Reading file for ./Avengers-Similarity-Analysis/Mantis\n",
      "Reading file for ./Avengers-Similarity-Analysis/Peter Quill\n"
     ]
    }
   ],
   "source": [
    "#characters = [i[:-4] for i in text_files]\n",
    "character_lines = {}\n",
    "\n",
    "print(\"Reading data from files...\")\n",
    "\n",
    "for fname in text_files:\n",
    "    character = fname[:-4]\n",
    "    print(\"Reading file for {}\".format(character))\n",
    "    character_line = \"\"\n",
    "    with open(fname,'r') as g:\n",
    "        for line in g.readlines():\n",
    "            character_line+=line.strip()\n",
    "        if character_line == \"\":\n",
    "            continue\n",
    "        character_lines[character]=character_line"
   ]
  },
  {
   "cell_type": "code",
   "execution_count": 8,
   "metadata": {},
   "outputs": [
    {
     "name": "stdout",
     "output_type": "stream",
     "text": [
      "================================\n",
      "Characters found:\n",
      "0: ./Avengers-Similarity-Analysis/Doctor Strange\n",
      "1: ./Avengers-Similarity-Analysis/Gamora\n",
      "2: ./Avengers-Similarity-Analysis/Wanda Maximoff\n",
      "3: ./Avengers-Similarity-Analysis/Eitri\n",
      "4: ./Avengers-Similarity-Analysis/Young Gamora\n",
      "5: ./Avengers-Similarity-Analysis/Proxima Midnight\n",
      "6: ./Avengers-Similarity-Analysis/Nebula\n",
      "7: ./Avengers-Similarity-Analysis/Bruce Banner\n",
      "8: ./Avengers-Similarity-Analysis/F.R.I.D.A.Y\n",
      "9: ./Avengers-Similarity-Analysis/Collector\n",
      "10: ./Avengers-Similarity-Analysis/Heimdall\n",
      "11: ./Avengers-Similarity-Analysis/Gamora's Mother\n",
      "12: ./Avengers-Similarity-Analysis/Shuri\n",
      "13: ./Avengers-Similarity-Analysis/Loki\n",
      "14: ./Avengers-Similarity-Analysis/Drax\n",
      "15: ./Avengers-Similarity-Analysis/Peter Parker\n",
      "16: ./Avengers-Similarity-Analysis/Secretary Ross\n",
      "17: ./Avengers-Similarity-Analysis/Maria Hill\n",
      "18: ./Avengers-Similarity-Analysis/Sam Wilson\n",
      "19: ./Avengers-Similarity-Analysis/Stonekeeper\n",
      "20: ./Avengers-Similarity-Analysis/M'Baku\n",
      "21: ./Avengers-Similarity-Analysis/Groot\n",
      "22: ./Avengers-Similarity-Analysis/Wong\n",
      "23: ./Avengers-Similarity-Analysis/Vision\n",
      "24: ./Avengers-Similarity-Analysis/Jabari Warriors\n",
      "25: ./Avengers-Similarity-Analysis/Bucky Barnes\n",
      "26: ./Avengers-Similarity-Analysis/James Rhodes\n",
      "27: ./Avengers-Similarity-Analysis/Dome Control\n",
      "28: ./Avengers-Similarity-Analysis/Ebony Maw\n",
      "29: ./Avengers-Similarity-Analysis/Mantis\n",
      "30: ./Avengers-Similarity-Analysis/Tony Stark\n",
      "31: ./Avengers-Similarity-Analysis/Hulk\n",
      "32: ./Avengers-Similarity-Analysis/Steve Rogers\n",
      "33: ./Avengers-Similarity-Analysis/Your Bus Driver, Stan Lee\n",
      "34: ./Avengers-Similarity-Analysis/Memory Nebula\n",
      "35: ./Avengers-Similarity-Analysis/Rocket\n",
      "36: ./Avengers-Similarity-Analysis/Corvus Glaive\n",
      "37: ./Avengers-Similarity-Analysis/Peter Quill\n",
      "38: ./Avengers-Similarity-Analysis/Okoye\n",
      "39: ./Avengers-Similarity-Analysis/T'Challa\n",
      "40: ./Avengers-Similarity-Analysis/Jabari\n",
      "41: ./Avengers-Similarity-Analysis/Pepper Potts\n",
      "42: ./Avengers-Similarity-Analysis/Natasha Romanoff\n",
      "43: ./Avengers-Similarity-Analysis/Nick Fury\n",
      "44: ./Avengers-Similarity-Analysis/Ned Leeds\n",
      "45: ./Avengers-Similarity-Analysis/Thor\n",
      "46: ./Avengers-Similarity-Analysis/Memory Gamora\n",
      "47: ./Avengers-Similarity-Analysis/Thanos\n",
      "48: ./Avengers-Similarity-Analysis/Red Skull\n",
      "================================\n",
      "Enter character index to be used:\n",
      "Enter q or Q to stop.\n",
      "q\n",
      "================================\n",
      "Characters selected:\n",
      "0: ./Avengers-Similarity-Analysis/Doctor Strange\n",
      "1: ./Avengers-Similarity-Analysis/Gamora\n",
      "2: ./Avengers-Similarity-Analysis/Wanda Maximoff\n",
      "3: ./Avengers-Similarity-Analysis/Eitri\n",
      "4: ./Avengers-Similarity-Analysis/Young Gamora\n",
      "5: ./Avengers-Similarity-Analysis/Proxima Midnight\n",
      "6: ./Avengers-Similarity-Analysis/Nebula\n",
      "7: ./Avengers-Similarity-Analysis/Bruce Banner\n",
      "8: ./Avengers-Similarity-Analysis/F.R.I.D.A.Y\n",
      "9: ./Avengers-Similarity-Analysis/Collector\n",
      "10: ./Avengers-Similarity-Analysis/Heimdall\n",
      "11: ./Avengers-Similarity-Analysis/Gamora's Mother\n",
      "12: ./Avengers-Similarity-Analysis/Shuri\n",
      "13: ./Avengers-Similarity-Analysis/Loki\n",
      "14: ./Avengers-Similarity-Analysis/Drax\n",
      "15: ./Avengers-Similarity-Analysis/Peter Parker\n",
      "16: ./Avengers-Similarity-Analysis/Secretary Ross\n",
      "17: ./Avengers-Similarity-Analysis/Maria Hill\n",
      "18: ./Avengers-Similarity-Analysis/Sam Wilson\n",
      "19: ./Avengers-Similarity-Analysis/Stonekeeper\n",
      "20: ./Avengers-Similarity-Analysis/M'Baku\n",
      "21: ./Avengers-Similarity-Analysis/Groot\n",
      "22: ./Avengers-Similarity-Analysis/Wong\n",
      "23: ./Avengers-Similarity-Analysis/Vision\n",
      "24: ./Avengers-Similarity-Analysis/Jabari Warriors\n",
      "25: ./Avengers-Similarity-Analysis/Bucky Barnes\n",
      "26: ./Avengers-Similarity-Analysis/James Rhodes\n",
      "27: ./Avengers-Similarity-Analysis/Dome Control\n",
      "28: ./Avengers-Similarity-Analysis/Ebony Maw\n",
      "29: ./Avengers-Similarity-Analysis/Mantis\n",
      "30: ./Avengers-Similarity-Analysis/Tony Stark\n",
      "31: ./Avengers-Similarity-Analysis/Hulk\n",
      "32: ./Avengers-Similarity-Analysis/Steve Rogers\n",
      "33: ./Avengers-Similarity-Analysis/Your Bus Driver, Stan Lee\n",
      "34: ./Avengers-Similarity-Analysis/Memory Nebula\n",
      "35: ./Avengers-Similarity-Analysis/Rocket\n",
      "36: ./Avengers-Similarity-Analysis/Corvus Glaive\n",
      "37: ./Avengers-Similarity-Analysis/Peter Quill\n",
      "38: ./Avengers-Similarity-Analysis/Okoye\n",
      "39: ./Avengers-Similarity-Analysis/T'Challa\n",
      "40: ./Avengers-Similarity-Analysis/Jabari\n",
      "41: ./Avengers-Similarity-Analysis/Pepper Potts\n",
      "42: ./Avengers-Similarity-Analysis/Natasha Romanoff\n",
      "43: ./Avengers-Similarity-Analysis/Nick Fury\n",
      "44: ./Avengers-Similarity-Analysis/Ned Leeds\n",
      "45: ./Avengers-Similarity-Analysis/Thor\n",
      "46: ./Avengers-Similarity-Analysis/Memory Gamora\n",
      "47: ./Avengers-Similarity-Analysis/Thanos\n",
      "48: ./Avengers-Similarity-Analysis/Red Skull\n",
      "================================\n"
     ]
    }
   ],
   "source": [
    "# Select characters\n",
    "print(\"================================\")\n",
    "print(\"Characters found:\")\n",
    "for i in range(len(character_lines.keys())):\n",
    "    print(\"{}: {}\".format(i,list(character_lines.keys())[i]))\n",
    "print(\"================================\")\n",
    "print(\"Enter character index to be used:\")\n",
    "print(\"Enter q or Q to stop.\")\n",
    "flag = True\n",
    "char_index = \"\"\n",
    "final_character_lines = {}\n",
    "characters = list(character_lines.keys())\n",
    "\n",
    "while flag:\n",
    "    char_index = input()\n",
    "    if char_index.upper() == 'Q':\n",
    "        flag=False\n",
    "    else:\n",
    "        char_index = int(char_index)\n",
    "        final_character_lines[characters[char_index]]=character_lines[characters[char_index]]\n",
    "\n",
    "# Index changed\n",
    "if flag == True:\n",
    "    character_lines = final_character_lines\n",
    "\n",
    "print(\"================================\")\n",
    "print(\"Characters selected:\")\n",
    "for i in range(len(character_lines.keys())):\n",
    "    print(\"{}: {}\".format(i,list(character_lines.keys())[i]))\n",
    "print(\"================================\")\n"
   ]
  },
  {
   "cell_type": "markdown",
   "metadata": {},
   "source": [
    "**Drawing**"
   ]
  },
  {
   "cell_type": "code",
   "execution_count": 9,
   "metadata": {},
   "outputs": [
    {
     "name": "stdout",
     "output_type": "stream",
     "text": [
      "INFO:tensorflow:Saver not created because there are no variables in the graph to restore\n"
     ]
    },
    {
     "data": {
      "image/png": "[encoded data removed]",
      "text/plain": [
       "<Figure size 432x288 with 2 Axes>"
      ]
     },
     "metadata": {},
     "output_type": "display_data"
    }
   ],
   "source": [
    "similarity_input_placeholder = tf.placeholder(tf.string, shape=(None))\n",
    "similarity_message_encodings = embed(similarity_input_placeholder)\n",
    "#similarity_labels_placeholder= tf.placeholder(\n",
    "with tf.Session() as session:\n",
    "    session.run(tf.global_variables_initializer())\n",
    "    session.run(tf.tables_initializer())\n",
    "    run_and_plot(session, similarity_input_placeholder,\\\n",
    "            list(character_lines.values()),\\\n",
    "            list(character_lines.keys()),\\\n",
    "            similarity_message_encodings)"
   ]
  },
  {
   "cell_type": "code",
   "execution_count": null,
   "metadata": {},
   "outputs": [],
   "source": []
  }
 ],
 "metadata": {
  "kernelspec": {
   "display_name": "Python 3",
   "language": "python",
   "name": "python3"
  },
  "language_info": {
   "codemirror_mode": {
    "name": "ipython",
    "version": 3
   },
   "file_extension": ".py",
   "mimetype": "text/x-python",
   "name": "python",
   "nbconvert_exporter": "python",
   "pygments_lexer": "ipython3",
   "version": "3.5.2"
  }
 },
 "nbformat": 4,
 "nbformat_minor": 2
}
