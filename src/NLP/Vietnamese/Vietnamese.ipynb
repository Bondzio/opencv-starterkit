{
 "cells": [
  {
   "cell_type": "code",
   "execution_count": 17,
   "metadata": {},
   "outputs": [],
   "source": [
    "from underthesea import word_tokenize, pos_tag, chunk, ner, sentiment\n",
    "from underthesea.classification import classify\n"
   ]
  },
  {
   "cell_type": "code",
   "execution_count": 18,
   "metadata": {},
   "outputs": [],
   "source": [
    "class Example:\n",
    "    def __init__(self):\n",
    "        pass\n",
    "\n",
    "    def word_segment(self, words='Chàng trai 9X Quảng Trị khởi nghiệp từ nấm sò'):\n",
    "        results = word_tokenize(words)\n",
    "        print(results)\n",
    "\n",
    "    def pos_tagging(self, words='Chợ thịt chó nổi tiếng ở Sài Gòn bị truy quét'):\n",
    "        results = pos_tag(words)\n",
    "        print(results)\n",
    "\n",
    "    def chunking(self, words='Bác sĩ bây giờ có thể thản nhiên báo tin bệnh nhân bị ung thư?'):\n",
    "        results = chunk(words)\n",
    "        print(results)\n",
    "\n",
    "    def name_entity_recognition(self, words='Chưa tiết lộ lịch trình tới Việt Nam của Tổng thống Mỹ Donald Trump'):\n",
    "        results = ner(words)\n",
    "        print(results)\n",
    "\n",
    "    def intent_detection(self, words='Hội đồng tư vấn kinh doanh Asean vinh danh giải thưởng quốc tế'):\n",
    "        results = classify(words)\n",
    "        print(results)\n",
    "\n",
    "    def sentiment_analysis(self, words='Gọi mấy lần mà lúc nào cũng là các chuyên viên đang bận hết ạ'):\n",
    "        results = sentiment(words, domain='bank')\n",
    "        print(results)\n",
    "\n",
    "    def sampleFunc(self, arg):\n",
    "        print('you called sampleFunc({})'.format(arg))"
   ]
  },
  {
   "cell_type": "code",
   "execution_count": 19,
   "metadata": {},
   "outputs": [],
   "source": [
    "# Init singleton\n",
    "example = Example()"
   ]
  },
  {
   "cell_type": "code",
   "execution_count": 20,
   "metadata": {},
   "outputs": [
    {
     "name": "stdout",
     "output_type": "stream",
     "text": [
      "Method: sentiment_analysis\n",
      "Sentence: \n",
      "Gọi mấy lần mà lúc nào cũng là các chuyên viên đang bận hết ạ\n",
      "None\n"
     ]
    }
   ],
   "source": [
    "method = input('Method: ')\n",
    "sentence = input('Sentence: ')\n",
    "func = getattr(example, method)\n",
    "if sentence == \"\":\n",
    "    print(func.__defaults__[0])\n",
    "    func() # set to default value\n",
    "else:\n",
    "    func(sentence)\n"
   ]
  },
  {
   "cell_type": "code",
   "execution_count": null,
   "metadata": {},
   "outputs": [],
   "source": []
  }
 ],
 "metadata": {
  "kernelspec": {
   "display_name": "Python3 (myenv)",
   "language": "python",
   "name": "python3"
  },
  "language_info": {
   "codemirror_mode": {
    "name": "ipython",
    "version": 3
   },
   "file_extension": ".py",
   "mimetype": "text/x-python",
   "name": "python",
   "nbconvert_exporter": "python",
   "pygments_lexer": "ipython3",
   "version": "3.6.7"
  }
 },
 "nbformat": 4,
 "nbformat_minor": 2
}
