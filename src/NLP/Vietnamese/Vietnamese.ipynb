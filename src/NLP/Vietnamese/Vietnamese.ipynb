{
 "cells": [
  {
   "cell_type": "code",
   "execution_count": 1,
   "metadata": {},
   "outputs": [],
   "source": [
    "from underthesea import word_tokenize, pos_tag, chunk, ner, sentiment\n",
    "from underthesea.classification import classify\n",
    "from termcolor import colored"
   ]
  },
  {
   "cell_type": "code",
   "execution_count": 2,
   "metadata": {},
   "outputs": [],
   "source": [
    "class Example:\n",
    "    def __init__(self):\n",
    "        pass\n",
    "\n",
    "    def word_segment(self, words='Chàng trai 9X Quảng Trị khởi nghiệp từ nấm sò'):\n",
    "        results = word_tokenize(words)\n",
    "        return results\n",
    "\n",
    "    def pos_tagging(self, words='Chợ thịt chó nổi tiếng ở Sài Gòn bị truy quét'):\n",
    "        results = pos_tag(words)\n",
    "        return results\n",
    "\n",
    "    def chunking(self, words='Bác sĩ bây giờ có thể thản nhiên báo tin bệnh nhân bị ung thư?'):\n",
    "        results = chunk(words)\n",
    "        return results\n",
    "\n",
    "    def name_entity_recognition(self, words='Chưa tiết lộ lịch trình tới Việt Nam của Tổng thống Mỹ Donald Trump'):\n",
    "        results = ner(words)\n",
    "        return results\n",
    "\n",
    "    def intent_detection(self, words='Chung muốn mua một bàn bida cho anh em chơi'):\n",
    "        results = classify(words)\n",
    "        return results\n",
    "\n",
    "    def sentiment_analysis(self, words='Gọi mấy lần mà lúc nào cũng là các chuyên viên đang bận hết ạ'):\n",
    "        results = sentiment(words, domain='bank')\n",
    "        return results\n"
   ]
  },
  {
   "cell_type": "code",
   "execution_count": 3,
   "metadata": {},
   "outputs": [],
   "source": [
    "# Init singleton\n",
    "example = Example()"
   ]
  },
  {
   "cell_type": "code",
   "execution_count": 4,
   "metadata": {},
   "outputs": [
    {
     "name": "stdout",
     "output_type": "stream",
     "text": [
      "Sentence: \n",
      "Method: \u001b[33mword_segment\u001b[0m, Sentence: \u001b[32mChàng trai 9X Quảng Trị khởi nghiệp từ nấm sò\u001b[0m\n",
      "Result: ['Chàng', 'trai', '9X', 'Quảng Trị', 'khởi nghiệp', 'từ', 'nấm', 'sò']\n",
      "\n",
      "Method: \u001b[33mpos_tagging\u001b[0m, Sentence: \u001b[32mChợ thịt chó nổi tiếng ở Sài Gòn bị truy quét\u001b[0m\n",
      "Result: [('Chợ', 'N'), ('thịt', 'N'), ('chó', 'N'), ('nổi tiếng', 'A'), ('ở', 'E'), ('Sài Gòn', 'Np'), ('bị', 'V'), ('truy quét', 'V')]\n",
      "\n",
      "Method: \u001b[33mchunking\u001b[0m, Sentence: \u001b[32mBác sĩ bây giờ có thể thản nhiên báo tin bệnh nhân bị ung thư?\u001b[0m\n",
      "Result: [('Bác sĩ', 'N', 'B-NP'), ('bây giờ', 'P', 'B-NP'), ('có thể', 'R', 'O'), ('thản nhiên', 'A', 'B-AP'), ('báo', 'V', 'B-VP'), ('tin', 'N', 'B-NP'), ('bệnh nhân', 'N', 'B-NP'), ('bị', 'V', 'B-VP'), ('ung thư', 'N', 'B-NP'), ('?', 'CH', 'O')]\n",
      "\n",
      "Method: \u001b[33mname_entity_recognition\u001b[0m, Sentence: \u001b[32mChưa tiết lộ lịch trình tới Việt Nam của Tổng thống Mỹ Donald Trump\u001b[0m\n",
      "Result: [('Chưa', 'R', 'O', 'O'), ('tiết lộ', 'V', 'B-VP', 'O'), ('lịch trình', 'V', 'B-VP', 'O'), ('tới', 'E', 'B-PP', 'O'), ('Việt Nam', 'Np', 'B-NP', 'B-LOC'), ('của', 'E', 'B-PP', 'O'), ('Tổng thống', 'N', 'B-NP', 'B-LOC'), ('Mỹ Donald Trump', 'Np', 'B-NP', 'I-LOC')]\n",
      "\n",
      "Method: \u001b[33mintent_detection\u001b[0m, Sentence: \u001b[32mChung muốn mua một bàn bida cho anh em chơi\u001b[0m\n",
      "Result: ['Doi song']\n",
      "\n",
      "Method: \u001b[33msentiment_analysis\u001b[0m, Sentence: \u001b[32mGọi mấy lần mà lúc nào cũng là các chuyên viên đang bận hết ạ\u001b[0m\n",
      "Result: ('CUSTOMER SUPPORT#NEGATIVE',)\n",
      "\n"
     ]
    }
   ],
   "source": [
    "methods = ['word_segment', 'pos_tagging', 'chunking', \n",
    "          'name_entity_recognition', 'intent_detection', 'sentiment_analysis']\n",
    "sentence = input('Sentence: ')\n",
    "for method in methods:\n",
    "    func = getattr(example, method)\n",
    "    words = sentence\n",
    "    if words == \"\":        \n",
    "        words = func.__defaults__[0] # set to default value\n",
    "    \n",
    "    print('Method: {}, Sentence: {}'.format(colored(method, 'yellow'), colored(words,'green')))\n",
    "    print('Result: {}'.format(func(words)))\n",
    "    print()"
   ]
  },
  {
   "cell_type": "code",
   "execution_count": null,
   "metadata": {},
   "outputs": [],
   "source": []
  }
 ],
 "metadata": {
  "kernelspec": {
   "display_name": "Python3 (myenv)",
   "language": "python",
   "name": "python3"
  },
  "language_info": {
   "codemirror_mode": {
    "name": "ipython",
    "version": 3
   },
   "file_extension": ".py",
   "mimetype": "text/x-python",
   "name": "python",
   "nbconvert_exporter": "python",
   "pygments_lexer": "ipython3",
   "version": "3.6.7"
  }
 },
 "nbformat": 4,
 "nbformat_minor": 2
}
