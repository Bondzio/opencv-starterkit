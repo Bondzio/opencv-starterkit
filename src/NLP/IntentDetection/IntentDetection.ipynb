{
 "cells": [
  {
   "cell_type": "code",
   "execution_count": 1,
   "metadata": {},
   "outputs": [
    {
     "name": "stderr",
     "output_type": "stream",
     "text": [
      "Using TensorFlow backend.\n"
     ]
    }
   ],
   "source": [
    "import yaml\n",
    "from intent_agent import IntentAgent\n"
   ]
  },
  {
   "cell_type": "code",
   "execution_count": 6,
   "metadata": {},
   "outputs": [],
   "source": [
    "# Init model\n",
    "with open('agent_config.yaml') as config_yaml:\n",
    "    config = yaml.load(config_yaml)\n",
    "    agent = IntentAgent(config)\n",
    "    agent.init_agent()"
   ]
  },
  {
   "cell_type": "code",
   "execution_count": 7,
   "metadata": {},
   "outputs": [
    {
     "name": "stdout",
     "output_type": "stream",
     "text": [
      "BookRestaurant\n"
     ]
    }
   ],
   "source": [
    "task = [\"I want to order pizza\"]\n",
    "result = agent.answer(task)\n",
    "\n",
    "print(result)"
   ]
  },
  {
   "cell_type": "code",
   "execution_count": 8,
   "metadata": {},
   "outputs": [
    {
     "name": "stdout",
     "output_type": "stream",
     "text": [
      "{'val_patience': 5, 'confident_threshold': 0.5, 'embedding_size': 100, 'loss': 'binary_crossentropy', 'lear_rate_decay': 0.1, 'model_path': './snips_pretrained/cnn_model', 'filters_cnn': 256, 'dropout_rate': 0.5, 'text_size': 15, 'optimizer': 'Adam', 'batch_size': 64, 'coef_reg_cnn': 0.0001, 'verbose': True, 'epochs': 1000, 'module': 'fasttext', 'model_name': 'cnn_model', 'kernel_sizes_cnn': '1 2 3', 'coef_reg_den': 0.0001, 'fasttext_model': './reddit_fasttext_model.bin', 'dense_size': 100, 'show_examples': False, 'lear_metrics': 'binary_accuracy fmeasure', 'model_from_saved': False, 'lear_rate': 0.1, 'val_every_n_epochs': 5}\n"
     ]
    }
   ],
   "source": [
    "print(config)"
   ]
  },
  {
   "cell_type": "code",
   "execution_count": null,
   "metadata": {},
   "outputs": [],
   "source": []
  }
 ],
 "metadata": {
  "kernelspec": {
   "display_name": "Python 3",
   "language": "python",
   "name": "python3"
  },
  "language_info": {
   "codemirror_mode": {
    "name": "ipython",
    "version": 3
   },
   "file_extension": ".py",
   "mimetype": "text/x-python",
   "name": "python",
   "nbconvert_exporter": "python",
   "pygments_lexer": "ipython3",
   "version": "3.5.2"
  }
 },
 "nbformat": 4,
 "nbformat_minor": 2
}
