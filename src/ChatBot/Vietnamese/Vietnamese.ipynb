{
 "cells": [
  {
   "cell_type": "code",
   "execution_count": 1,
   "metadata": {},
   "outputs": [],
   "source": [
    "import socket"
   ]
  },
  {
   "cell_type": "code",
   "execution_count": 2,
   "metadata": {},
   "outputs": [],
   "source": [
    "defaultUser = \"anhv\"\n",
    "botname = \"thanhtu\"\n",
    "def sendAndReceiveChatScript(text, user=defaultUser, server='127.0.0.1', port=1024, timeout=10):\n",
    "    try:        \n",
    "        msgToSend = '%s\\u0000%s\\u0000%s\\u0000' % (user, botname, text)\n",
    "        msgToSend = str.encode(msgToSend)\n",
    "        s = socket.socket(socket.AF_INET, socket.SOCK_STREAM)\n",
    "        s.settimeout(timeout)  # timeout in secs\n",
    "        s.connect((server, port))\n",
    "        s.sendall(msgToSend)\n",
    "        msg = ''\n",
    "        while True:\n",
    "            chunk = s.recv(1024)\n",
    "            if chunk == b'':\n",
    "                break\n",
    "            msg = msg + chunk.decode(\"utf-8\", errors=\"ignore\")\n",
    "        s.close()\n",
    "        return msg\n",
    "    except Exception as e:\n",
    "        print(e)\n",
    "        return None"
   ]
  },
  {
   "cell_type": "code",
   "execution_count": 3,
   "metadata": {},
   "outputs": [],
   "source": [
    "class ThanhTu:\n",
    "    @staticmethod\n",
    "    def reply(text, user=defaultUser):\n",
    "        server = \"127.0.0.1\"\n",
    "        port = 1024\n",
    "        response = sendAndReceiveChatScript(\n",
    "            text, user, server=server, port=port)\n",
    "        return response\n",
    "\n",
    "    @staticmethod\n",
    "    def init():\n",
    "        server = \"127.0.0.1\"\n",
    "        port = 1024\n",
    "        sendAndReceiveChatScript(\":reset\", server=server, port=port)"
   ]
  },
  {
   "cell_type": "code",
   "execution_count": 5,
   "metadata": {},
   "outputs": [
    {
     "name": "stdout",
     "output_type": "stream",
     "text": [
      "you(chung): chào bạn \n",
      "thanhtu(bot): Chào cậu\n",
      "you(chung): cậu tên gì?\n",
      "thanhtu(bot): Tớ tên là Thanh Tú\n",
      "you(chung): cậu bao nhiêu tuổi?\n",
      "thanhtu(bot): Tớ 20 tuổi\n",
      "you(chung): cậu sống ở đâu?\n",
      "thanhtu(bot): Tớ ở Hà Nội\n",
      "you(chung): cậu có biết hát không?\n",
      "thanhtu(bot): Mình hợp nhau đến như vậy, thế nhưng không phải là yêu ♪♪♪\n",
      "you(chung): \n",
      "Chúc chung một ngày tốt lành.\n"
     ]
    }
   ],
   "source": [
    "user = 'chung'\n",
    "message = input('you('+user + '): ')\n",
    "while message != \"\":\n",
    "    response_message = ThanhTu.reply(message, user)\n",
    "    print('{}(bot): {}'.format(botname,response_message))\n",
    "    message = input('you('+user + '): ')\n",
    "\n",
    "print('Chúc {} một ngày tốt lành.'.format(user))"
   ]
  },
  {
   "cell_type": "code",
   "execution_count": null,
   "metadata": {},
   "outputs": [],
   "source": []
  }
 ],
 "metadata": {
  "kernelspec": {
   "display_name": "Python3 (myenv)",
   "language": "python",
   "name": "python3"
  },
  "language_info": {
   "codemirror_mode": {
    "name": "ipython",
    "version": 3
   },
   "file_extension": ".py",
   "mimetype": "text/x-python",
   "name": "python",
   "nbconvert_exporter": "python",
   "pygments_lexer": "ipython3",
   "version": "3.6.7"
  }
 },
 "nbformat": 4,
 "nbformat_minor": 2
}
